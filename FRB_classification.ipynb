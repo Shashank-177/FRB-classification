{
  "nbformat": 4,
  "nbformat_minor": 0,
  "metadata": {
    "colab": {
      "provenance": []
    },
    "kernelspec": {
      "name": "python3",
      "display_name": "Python 3"
    },
    "language_info": {
      "name": "python"
    }
  },
  "cells": [
    {
      "cell_type": "code",
      "source": [
        "import matplotlib.pyplot as plt\n",
        "import numpy as np\n",
        "import pandas\n",
        "from astropy.io import ascii\n",
        "\n",
        "\n",
        "# reading the CSV file\n",
        "data = pd.read_csv('chimefrbcat1.csv')\n",
        "\n",
        "data1  = (data['flux'] > 0.0) & (data['fluence'] > 0.0)\n",
        "data_sel = data[data1]\n",
        "Peak_freq = np.array(data_sel[\"peak_freq\"])\n",
        "Flux = np.array(data_sel[\"flux\"])\n",
        "Fluence = np.array(data_sel[\"fluence\"])\n",
        "Boxcar = np.array(data_sel[\"bc_width\"])\n",
        "\n",
        "check = 'FRB'\n",
        "\n",
        "d = data_sel.query(\"repeater_name != '-9999'\")\n",
        "d.shape"
      ],
      "metadata": {
        "colab": {
          "base_uri": "https://localhost:8080/"
        },
        "id": "rMCoAUo9bvHi",
        "outputId": "ea75bbd1-05c2-4492-d73a-614f3387ab00"
      },
      "execution_count": null,
      "outputs": [
        {
          "output_type": "execute_result",
          "data": {
            "text/plain": [
              "(94, 55)"
            ]
          },
          "metadata": {},
          "execution_count": 51
        }
      ]
    },
    {
      "cell_type": "code",
      "source": [
        "import matplotlib.pyplot as plt\n",
        "import numpy as np\n",
        "import pandas as pd\n",
        "from astropy.io import ascii\n",
        "\n",
        "\n",
        "# reading the CSV file\n",
        "data = pd.read_csv('chimefrbcat1.csv')\n",
        "\n",
        "data1  = (data['flux'] > 0.0) & (data['fluence'] > 0.0)\n",
        "data_sel = data[data1]\n",
        "Peak_freq = np.array(data_sel[\"peak_freq\"])\n",
        "Flux = np.array(data_sel[\"flux\"])\n",
        "Fluence = np.array(data_sel[\"fluence\"])\n",
        "Boxcar = np.array(data_sel[\"bc_width\"])\n",
        "\n",
        "check = 'FRB'\n",
        "\n",
        "data_sel2 = data_sel.query(\"repeater_name != '-9999'\")"
      ],
      "metadata": {
        "id": "7DfQ8nMPb3UW"
      },
      "execution_count": null,
      "outputs": []
    },
    {
      "cell_type": "code",
      "source": [
        "Peak_freq1 = np.array(data_sel2[\"peak_freq\"])\n",
        "Flux1 = np.array(data_sel2[\"flux\"])\n",
        "Fluence1 = np.array(data_sel2[\"fluence\"])\n",
        "Boxcar1 =np.array(data_sel2[\"bc_width\"])\n",
        "\n",
        "\n",
        "fig, ax = plt.subplots(figsize =(7, 6))\n",
        "ax.hist(Peak_freq,bins =5,color='blue',alpha=0.6)\n",
        "ax.hist(Peak_freq1,bins =5,color='red')\n",
        "plt.show()\n",
        "\n",
        "\n",
        "fig, ax = plt.subplots(figsize =(7, 6))\n",
        "ax.hist(np.log(Flux),bins = 20,color='blue',alpha =0.6)\n",
        "ax.hist(np.log(Flux1),bins =20,color='red')\n",
        "plt.show()\n",
        "\n",
        "fig, ax = plt.subplots(figsize =(7, 6))\n",
        "ax.hist(np.log(Fluence),bins=20,color = 'blue',alpha=0.6)\n",
        "ax.hist(np.log(Fluence1),bins=20,color ='red')\n",
        "plt.show()\n",
        "\n",
        "fig, ax = plt.subplots(figsize =(7, 6))\n",
        "ax.hist(np.log(Boxcar),bins=10,color ='blue',alpha=0.6)\n",
        "ax.hist(np.log(Boxcar1),bins=10,color ='red')\n",
        "plt.show()"
      ],
      "metadata": {
        "id": "cE6MaoCoIeKj",
        "colab": {
          "base_uri": "https://localhost:8080/",
          "height": 1000
        },
        "outputId": "c8d14b23-90cd-4a58-cf1a-cac806b68318"
      },
      "execution_count": null,
      "outputs": [
        {
          "output_type": "display_data",
          "data": {
            "text/plain": [
              "<Figure size 504x432 with 1 Axes>"
            ],
            "image/png": "[encoded data removed]"
          },
          "metadata": {
            "needs_background": "light"
          }
        },
        {
          "output_type": "display_data",
          "data": {
            "text/plain": [
              "<Figure size 504x432 with 1 Axes>"
            ],
            "image/png": "[encoded data removed]"
          },
          "metadata": {
            "needs_background": "light"
          }
        },
        {
          "output_type": "display_data",
          "data": {
            "text/plain": [
              "<Figure size 504x432 with 1 Axes>"
            ],
            "image/png": "[encoded data removed]"
          },
          "metadata": {
            "needs_background": "light"
          }
        },
        {
          "output_type": "display_data",
          "data": {
            "text/plain": [
              "<Figure size 504x432 with 1 Axes>"
            ],
            "image/png": "[encoded data removed]"
          },
          "metadata": {
            "needs_background": "light"
          }
        }
      ]
    },
    {
      "cell_type": "code",
      "source": [
        "#from sympy import integrate\n",
        "DM = np.array(data_sel[\"dm_fitb\"])\n",
        "DM2 =np.array(data_sel2[\"dm_fitb\"])\n",
        "DM_MW = np.array(data_sel['dm_exc_ne2001'])\n",
        "DM_MW2 =np.array(data_sel2['dm_exc_ne2001'])\n",
        "\n",
        "DM_ = DM -DM_MW\n",
        "DM_1 = DM2-DM_MW2\n",
        "\n",
        "H = 67.4*10**5*10**-6#cm s^-1 pc^-1\n",
        "Omega_m = 0.315\n",
        "c = 3**10 #cm s^-1\n",
        "Omega_a = 0.718\n",
        "X = 7/8\n",
        "f = 0.83\n",
        "C = (3*c*H*0.775*0.83*7)/(8*8*np.pi*6.67*10**-8*1.67*10**-24)\n",
        "C\n",
        "\n",
        "# DM_halo = 30 #pc cm^-3\n",
        "# DM_host =70 #pc cm^-3\n",
        "\n",
        "# m = np.linspace(0,5,500)\n",
        "\n",
        "# DM_IGM = []\n",
        "\n",
        "# def func1(z):\n",
        "#   return (1+z)/np.sqrt(Omega_m*(1+z)**3+Omega_a)\n",
        "\n",
        "# #integration\n",
        "# def integration(ul,ll):\n",
        "#     h = (ul-ll)/100\n",
        "#     integ = func1(ll)+func1(ul)\n",
        "\n",
        "#     for i in range(0,499) :\n",
        "#         x = ll + i*h\n",
        "#         integ = integ + 2*func1(x)\n",
        "\n",
        "\n",
        "#     return integ*(h/2)\n",
        "\n",
        "\n",
        "\n",
        "# for i in m:\n",
        "#     DM_igm = C*integration(i,0)\n",
        "#     DM_IGM.append(DM_igm)\n",
        "# DM_IGM\n",
        "# def func2(Dm,z):\n",
        "#   return ((Dm)*(1+z)+DM_host)/(1+z)\n",
        "\n",
        "# F=[]\n",
        "# for i in range(len(m)):\n",
        "#   f = func2(DM_IGM[i],m[i])\n",
        "#   F.append(f)\n",
        "\n",
        "# plt.plot(m,func2(F,m))\n",
        "\n",
        "\n",
        "# final_y = DM_ - DM_halo\n",
        "# final_y2 = DM_1-DM_halo\n",
        "# F\n",
        "\n",
        "\n",
        "\n"
      ],
      "metadata": {
        "id": "4VacGb_D8D7P",
        "outputId": "4cbe1525-0c2f-4272-e74e-508c3d745968",
        "colab": {
          "base_uri": "https://localhost:8080/"
        }
      },
      "execution_count": null,
      "outputs": [
        {
          "output_type": "execute_result",
          "data": {
            "text/plain": [
              "2.400487128486748e+41"
            ]
          },
          "metadata": {},
          "execution_count": 7
        }
      ]
    },
    {
      "cell_type": "code",
      "source": [
        "#final_y\n",
        "z=[]\n",
        "Z=0\n",
        "for t in final_y:\n",
        "  for i in range(len(m)):\n",
        "\n",
        "      p = 1\n",
        "\n",
        "      for j in range(len(m)):\n",
        "          if i != j:\n",
        "              p = p * (t - F[j])/(F[i] - F[j])\n",
        "\n",
        "      Z = Z + p * m[i]\n",
        "  if (Z>0.002248):\n",
        "    z.append(Z)\n",
        "\n",
        "z1=[]\n",
        "Z1=0\n",
        "for t in final_y2:\n",
        "  for i in range(len(m)):\n",
        "\n",
        "      p = 1\n",
        "\n",
        "      for j in range(len(m)):\n",
        "          if i != j:\n",
        "              p = p * (t - F[j])/(F[i] - F[j])\n",
        "\n",
        "      Z1 = Z1 + p * m[i]\n",
        "\n",
        "  z1.append(Z1)\n",
        "\n",
        "# z\n",
        "\n",
        "\n",
        "fig, ax = plt.subplots(figsize =(7, 6))\n",
        "ax.hist(z,bins=10,color ='blue',alpha=0.6)\n",
        "ax.hist(z1,bins=10,color ='red')\n",
        "plt.show()\n"
      ],
      "metadata": {
        "id": "45Apw1fZDRz5"
      },
      "execution_count": null,
      "outputs": []
    },
    {
      "cell_type": "code",
      "source": [
        "len(z1)"
      ],
      "metadata": {
        "id": "EUXq0n8jXLOt",
        "colab": {
          "base_uri": "https://localhost:8080/"
        },
        "outputId": "6858d3e2-51d4-4a9e-8ab8-8ef2c7663cd7"
      },
      "execution_count": null,
      "outputs": [
        {
          "output_type": "execute_result",
          "data": {
            "text/plain": [
              "41"
            ]
          },
          "metadata": {},
          "execution_count": 18
        }
      ]
    },
    {
      "cell_type": "code",
      "source": [
        "high_freq = np.array(data_sel[\"high_freq\"])\n",
        "low_freq = np.array(data_sel[\"low_freq\"])\n",
        "\n",
        "high_freq1 = np.array(data_sel2[\"high_freq\"])\n",
        "low_freq1 = np.array(data_sel2[\"low_freq\"])\n",
        "\n",
        "def del_freq(z,v1,v2):\n",
        "  return (v1 - v2)/(1+z)\n",
        "\n",
        "high_freq_sel = np.array([])\n",
        "for i in range(len(high_freq1)):\n",
        "   V = del_freq(z[i],high_freq[i],low_freq[i])\n",
        "   high_freq_sel = np.append(high_freq_sel,V)  #2\n",
        "\n",
        "high_freq_sel2 =np.array([])\n",
        "for i in range(len(high_freq1)):\n",
        "  V = del_freq(z1[i],high_freq1[i],low_freq1[i])\n",
        "  high_freq_sel2 = np.append(high_freq_sel2,V    #2a\n",
        "\n",
        "fig, ax = plt.subplots(figsize =(7, 6))\n",
        "ax.hist(high_freq_sel,bins=10,color ='blue',alpha=0.6)\n",
        "ax.hist(high_freq_sel2,bins=10,color ='red')\n",
        "plt.show()\n",
        "\n"
      ],
      "metadata": {
        "id": "WlL3lhqhZ-ph",
        "colab": {
          "base_uri": "https://localhost:8080/",
          "height": 387
        },
        "outputId": "8b9f5e01-f571-477b-cd22-2f43063a98a9"
      },
      "execution_count": null,
      "outputs": [
        {
          "output_type": "display_data",
          "data": {
            "text/plain": [
              "<Figure size 504x432 with 1 Axes>"
            ],
            "image/png": "[encoded data removed]"
          },
          "metadata": {
            "needs_background": "light"
          }
        }
      ]
    },
    {
      "cell_type": "code",
      "source": [
        "fitburst = np.array(data_sel[\"width_fitb\"])\n",
        "fitburst1 =np.array(data_sel2[\"width_fitb\"])\n",
        "\n",
        "def time(z,t):\n",
        "  return t/(1+z)\n",
        "\n",
        "Rest_frame_width = np.array([])\n",
        "for i in range(len(fitburst)):\n",
        "  T = time(z[i],fitburst[i])\n",
        "  Rest_frame_width = np.append(Rest_frame_width,T) #3\n",
        "\n",
        "Rest_frame_width1 = np.array([])#3a\n",
        "for i in range(len(fitburst1)):\n",
        "  T = time(z1[i],fitburst1[i])\n",
        "  Rest_frame_width1 = np.append(Rest_frame_width1,T)#3a\n",
        "\n",
        "fig, ax = plt.subplots(figsize =(7, 6))\n",
        "ax.hist(high_freq_sel,bins=10,color ='blue',alpha=0.6)\n",
        "ax.hist(high_freq_sel2,bins=10,color ='red')\n",
        "plt.show()\n"
      ],
      "metadata": {
        "id": "uqgmVR0_gryA"
      },
      "execution_count": null,
      "outputs": []
    },
    {
      "cell_type": "code",
      "source": [
        "from sklearn.preprocessing import StandardScaler\n",
        "\n",
        "dummy =np.array([])\n",
        "for i in data_sel['repeater_name']:\n",
        "  if (i=='-9999'):\n",
        "    y = 'non repeater'\n",
        "    dummy = np.append(dummy,y)\n",
        "  else:\n",
        "    y= 'repeater'\n",
        "    dummy = np.append(dummy,y)\n",
        "\n",
        "data_sel['target'] = dummy\n",
        "\n",
        "features = [Peak_freq,Flux,Fluence,Boxcar]\n",
        "x = features\n",
        "y = data_sel.loc[:,'target'].values\n",
        "\n",
        "x1 = pd.DataFrame(x)\n",
        "x1 = x1.T\n",
        "x1 = StandardScaler().fit_transform(x1)\n",
        "x1 = pd.DataFrame(x1)\n",
        "\n",
        "x1"
      ],
      "metadata": {
        "id": "XD_RiNaNlPT2",
        "colab": {
          "base_uri": "https://localhost:8080/",
          "height": 528
        },
        "outputId": "f0a66755-5831-4d18-a2b6-5b6f2aea54fb"
      },
      "execution_count": null,
      "outputs": [
        {
          "output_type": "stream",
          "name": "stderr",
          "text": [
            "<ipython-input-22-2cf334789dd2>:12: SettingWithCopyWarning: \n",
            "A value is trying to be set on a copy of a slice from a DataFrame.\n",
            "Try using .loc[row_indexer,col_indexer] = value instead\n",
            "\n",
            "See the caveats in the documentation: https://pandas.pydata.org/pandas-docs/stable/user_guide/indexing.html#returning-a-view-versus-a-copy\n",
            "  data_sel['target'] = dummy\n"
          ]
        },
        {
          "output_type": "execute_result",
          "data": {
            "text/plain": [
              "            0         1         2         3\n",
              "0    0.825297 -0.040968 -0.359245 -0.482235\n",
              "1   -0.181899 -0.423591 -0.511359 -0.482235\n",
              "2    0.103223  3.375309  0.737000 -0.619143\n",
              "3    1.267546 -0.307437 -0.605687 -0.550342\n",
              "4   -0.268407  1.154729  1.586802 -0.345327\n",
              "..        ...       ...       ...       ...\n",
              "589  2.527204 -0.191284 -0.563197 -0.550342\n",
              "590 -0.374335 -0.245944 -0.546201 -0.482235\n",
              "591 -0.595900 -0.321102 -0.495213 -0.550342\n",
              "592 -0.408761 -0.167370  0.023166 -0.072206\n",
              "593 -0.914566 -0.389428 -0.537703 -0.482235\n",
              "\n",
              "[594 rows x 4 columns]"
            ],
            "text/html": [
              "\n",
              "  <div id=\"df-39ea0667-c8b0-492a-9b6f-c2da4d9f964b\">\n",
              "    <div class=\"colab-df-container\">\n",
              "      <div>\n",
              "<style scoped>\n",
              "    .dataframe tbody tr th:only-of-type {\n",
              "        vertical-align: middle;\n",
              "    }\n",
              "\n",
              "    .dataframe tbody tr th {\n",
              "        vertical-align: top;\n",
              "    }\n",
              "\n",
              "    .dataframe thead th {\n",
              "        text-align: right;\n",
              "    }\n",
              "</style>\n",
              "<table border=\"1\" class=\"dataframe\">\n",
              "  <thead>\n",
              "    <tr style=\"text-align: right;\">\n",
              "      <th></th>\n",
              "      <th>0</th>\n",
              "      <th>1</th>\n",
              "      <th>2</th>\n",
              "      <th>3</th>\n",
              "    </tr>\n",
              "  </thead>\n",
              "  <tbody>\n",
              "    <tr>\n",
              "      <th>0</th>\n",
              "      <td>0.825297</td>\n",
              "      <td>-0.040968</td>\n",
              "      <td>-0.359245</td>\n",
              "      <td>-0.482235</td>\n",
              "    </tr>\n",
              "    <tr>\n",
              "      <th>1</th>\n",
              "      <td>-0.181899</td>\n",
              "      <td>-0.423591</td>\n",
              "      <td>-0.511359</td>\n",
              "      <td>-0.482235</td>\n",
              "    </tr>\n",
              "    <tr>\n",
              "      <th>2</th>\n",
              "      <td>0.103223</td>\n",
              "      <td>3.375309</td>\n",
              "      <td>0.737000</td>\n",
              "      <td>-0.619143</td>\n",
              "    </tr>\n",
              "    <tr>\n",
              "      <th>3</th>\n",
              "      <td>1.267546</td>\n",
              "      <td>-0.307437</td>\n",
              "      <td>-0.605687</td>\n",
              "      <td>-0.550342</td>\n",
              "    </tr>\n",
              "    <tr>\n",
              "      <th>4</th>\n",
              "      <td>-0.268407</td>\n",
              "      <td>1.154729</td>\n",
              "      <td>1.586802</td>\n",
              "      <td>-0.345327</td>\n",
              "    </tr>\n",
              "    <tr>\n",
              "      <th>...</th>\n",
              "      <td>...</td>\n",
              "      <td>...</td>\n",
              "      <td>...</td>\n",
              "      <td>...</td>\n",
              "    </tr>\n",
              "    <tr>\n",
              "      <th>589</th>\n",
              "      <td>2.527204</td>\n",
              "      <td>-0.191284</td>\n",
              "      <td>-0.563197</td>\n",
              "      <td>-0.550342</td>\n",
              "    </tr>\n",
              "    <tr>\n",
              "      <th>590</th>\n",
              "      <td>-0.374335</td>\n",
              "      <td>-0.245944</td>\n",
              "      <td>-0.546201</td>\n",
              "      <td>-0.482235</td>\n",
              "    </tr>\n",
              "    <tr>\n",
              "      <th>591</th>\n",
              "      <td>-0.595900</td>\n",
              "      <td>-0.321102</td>\n",
              "      <td>-0.495213</td>\n",
              "      <td>-0.550342</td>\n",
              "    </tr>\n",
              "    <tr>\n",
              "      <th>592</th>\n",
              "      <td>-0.408761</td>\n",
              "      <td>-0.167370</td>\n",
              "      <td>0.023166</td>\n",
              "      <td>-0.072206</td>\n",
              "    </tr>\n",
              "    <tr>\n",
              "      <th>593</th>\n",
              "      <td>-0.914566</td>\n",
              "      <td>-0.389428</td>\n",
              "      <td>-0.537703</td>\n",
              "      <td>-0.482235</td>\n",
              "    </tr>\n",
              "  </tbody>\n",
              "</table>\n",
              "<p>594 rows × 4 columns</p>\n",
              "</div>\n",
              "      <button class=\"colab-df-convert\" onclick=\"convertToInteractive('df-39ea0667-c8b0-492a-9b6f-c2da4d9f964b')\"\n",
              "              title=\"Convert this dataframe to an interactive table.\"\n",
              "              style=\"display:none;\">\n",
              "        \n",
              "  <svg xmlns=\"http://www.w3.org/2000/svg\" height=\"24px\"viewBox=\"0 0 24 24\"\n",
              "       width=\"24px\">\n",
              "    <path d=\"M0 0h24v24H0V0z\" fill=\"none\"/>\n",
              "    <path d=\"M18.56 5.44l.94 2.06.94-2.06 2.06-.94-2.06-.94-.94-2.06-.94 2.06-2.06.94zm-11 1L8.5 8.5l.94-2.06 2.06-.94-2.06-.94L8.5 2.5l-.94 2.06-2.06.94zm10 10l.94 2.06.94-2.06 2.06-.94-2.06-.94-.94-2.06-.94 2.06-2.06.94z\"/><path d=\"M17.41 7.96l-1.37-1.37c-.4-.4-.92-.59-1.43-.59-.52 0-1.04.2-1.43.59L10.3 9.45l-7.72 7.72c-.78.78-.78 2.05 0 2.83L4 21.41c.39.39.9.59 1.41.59.51 0 1.02-.2 1.41-.59l7.78-7.78 2.81-2.81c.8-.78.8-2.07 0-2.86zM5.41 20L4 18.59l7.72-7.72 1.47 1.35L5.41 20z\"/>\n",
              "  </svg>\n",
              "      </button>\n",
              "      \n",
              "  <style>\n",
              "    .colab-df-container {\n",
              "      display:flex;\n",
              "      flex-wrap:wrap;\n",
              "      gap: 12px;\n",
              "    }\n",
              "\n",
              "    .colab-df-convert {\n",
              "      background-color: #E8F0FE;\n",
              "      border: none;\n",
              "      border-radius: 50%;\n",
              "      cursor: pointer;\n",
              "      display: none;\n",
              "      fill: #1967D2;\n",
              "      height: 32px;\n",
              "      padding: 0 0 0 0;\n",
              "      width: 32px;\n",
              "    }\n",
              "\n",
              "    .colab-df-convert:hover {\n",
              "      background-color: #E2EBFA;\n",
              "      box-shadow: 0px 1px 2px rgba(60, 64, 67, 0.3), 0px 1px 3px 1px rgba(60, 64, 67, 0.15);\n",
              "      fill: #174EA6;\n",
              "    }\n",
              "\n",
              "    [theme=dark] .colab-df-convert {\n",
              "      background-color: #3B4455;\n",
              "      fill: #D2E3FC;\n",
              "    }\n",
              "\n",
              "    [theme=dark] .colab-df-convert:hover {\n",
              "      background-color: #434B5C;\n",
              "      box-shadow: 0px 1px 3px 1px rgba(0, 0, 0, 0.15);\n",
              "      filter: drop-shadow(0px 1px 2px rgba(0, 0, 0, 0.3));\n",
              "      fill: #FFFFFF;\n",
              "    }\n",
              "  </style>\n",
              "\n",
              "      <script>\n",
              "        const buttonEl =\n",
              "          document.querySelector('#df-39ea0667-c8b0-492a-9b6f-c2da4d9f964b button.colab-df-convert');\n",
              "        buttonEl.style.display =\n",
              "          google.colab.kernel.accessAllowed ? 'block' : 'none';\n",
              "\n",
              "        async function convertToInteractive(key) {\n",
              "          const element = document.querySelector('#df-39ea0667-c8b0-492a-9b6f-c2da4d9f964b');\n",
              "          const dataTable =\n",
              "            await google.colab.kernel.invokeFunction('convertToInteractive',\n",
              "                                                     [key], {});\n",
              "          if (!dataTable) return;\n",
              "\n",
              "          const docLinkHtml = 'Like what you see? Visit the ' +\n",
              "            '<a target=\"_blank\" href=https://colab.research.google.com/notebooks/data_table.ipynb>data table notebook</a>'\n",
              "            + ' to learn more about interactive tables.';\n",
              "          element.innerHTML = '';\n",
              "          dataTable['output_type'] = 'display_data';\n",
              "          await google.colab.output.renderOutput(dataTable, element);\n",
              "          const docLink = document.createElement('div');\n",
              "          docLink.innerHTML = docLinkHtml;\n",
              "          element.appendChild(docLink);\n",
              "        }\n",
              "      </script>\n",
              "    </div>\n",
              "  </div>\n",
              "  "
            ]
          },
          "metadata": {},
          "execution_count": 22
        }
      ]
    },
    {
      "cell_type": "code",
      "source": [
        "from sklearn.decomposition import PCA\n",
        "pca = PCA(n_components=2)\n",
        "principalComponents = pca.fit_transform(x1)\n",
        "principalDf = pd.DataFrame(data = principalComponents, columns = ['principal component 1', 'principal component 2'])\n",
        "principalDf"
      ],
      "metadata": {
        "colab": {
          "base_uri": "https://localhost:8080/",
          "height": 424
        },
        "id": "tJXeuRO0Cqos",
        "outputId": "dbb6d25c-bf01-4e68-92c9-9121608eaacf"
      },
      "execution_count": null,
      "outputs": [
        {
          "output_type": "execute_result",
          "data": {
            "text/plain": [
              "     principal component 1  principal component 2\n",
              "0                -0.287875              -0.409542\n",
              "1                -0.782558              -0.278781\n",
              "2                 2.508141              -2.060922\n",
              "3                -0.586699              -0.352262\n",
              "4                 1.746931              -0.699408\n",
              "..                     ...                    ...\n",
              "589              -0.302034              -0.359135\n",
              "590              -0.724129              -0.372967\n",
              "591              -0.783249              -0.399624\n",
              "592              -0.164983               0.004084\n",
              "593              -0.885568              -0.323055\n",
              "\n",
              "[594 rows x 2 columns]"
            ],
            "text/html": [
              "\n",
              "  <div id=\"df-c3eb230c-eb7b-40ab-a380-d327194fc64b\">\n",
              "    <div class=\"colab-df-container\">\n",
              "      <div>\n",
              "<style scoped>\n",
              "    .dataframe tbody tr th:only-of-type {\n",
              "        vertical-align: middle;\n",
              "    }\n",
              "\n",
              "    .dataframe tbody tr th {\n",
              "        vertical-align: top;\n",
              "    }\n",
              "\n",
              "    .dataframe thead th {\n",
              "        text-align: right;\n",
              "    }\n",
              "</style>\n",
              "<table border=\"1\" class=\"dataframe\">\n",
              "  <thead>\n",
              "    <tr style=\"text-align: right;\">\n",
              "      <th></th>\n",
              "      <th>principal component 1</th>\n",
              "      <th>principal component 2</th>\n",
              "    </tr>\n",
              "  </thead>\n",
              "  <tbody>\n",
              "    <tr>\n",
              "      <th>0</th>\n",
              "      <td>-0.287875</td>\n",
              "      <td>-0.409542</td>\n",
              "    </tr>\n",
              "    <tr>\n",
              "      <th>1</th>\n",
              "      <td>-0.782558</td>\n",
              "      <td>-0.278781</td>\n",
              "    </tr>\n",
              "    <tr>\n",
              "      <th>2</th>\n",
              "      <td>2.508141</td>\n",
              "      <td>-2.060922</td>\n",
              "    </tr>\n",
              "    <tr>\n",
              "      <th>3</th>\n",
              "      <td>-0.586699</td>\n",
              "      <td>-0.352262</td>\n",
              "    </tr>\n",
              "    <tr>\n",
              "      <th>4</th>\n",
              "      <td>1.746931</td>\n",
              "      <td>-0.699408</td>\n",
              "    </tr>\n",
              "    <tr>\n",
              "      <th>...</th>\n",
              "      <td>...</td>\n",
              "      <td>...</td>\n",
              "    </tr>\n",
              "    <tr>\n",
              "      <th>589</th>\n",
              "      <td>-0.302034</td>\n",
              "      <td>-0.359135</td>\n",
              "    </tr>\n",
              "    <tr>\n",
              "      <th>590</th>\n",
              "      <td>-0.724129</td>\n",
              "      <td>-0.372967</td>\n",
              "    </tr>\n",
              "    <tr>\n",
              "      <th>591</th>\n",
              "      <td>-0.783249</td>\n",
              "      <td>-0.399624</td>\n",
              "    </tr>\n",
              "    <tr>\n",
              "      <th>592</th>\n",
              "      <td>-0.164983</td>\n",
              "      <td>0.004084</td>\n",
              "    </tr>\n",
              "    <tr>\n",
              "      <th>593</th>\n",
              "      <td>-0.885568</td>\n",
              "      <td>-0.323055</td>\n",
              "    </tr>\n",
              "  </tbody>\n",
              "</table>\n",
              "<p>594 rows × 2 columns</p>\n",
              "</div>\n",
              "      <button class=\"colab-df-convert\" onclick=\"convertToInteractive('df-c3eb230c-eb7b-40ab-a380-d327194fc64b')\"\n",
              "              title=\"Convert this dataframe to an interactive table.\"\n",
              "              style=\"display:none;\">\n",
              "        \n",
              "  <svg xmlns=\"http://www.w3.org/2000/svg\" height=\"24px\"viewBox=\"0 0 24 24\"\n",
              "       width=\"24px\">\n",
              "    <path d=\"M0 0h24v24H0V0z\" fill=\"none\"/>\n",
              "    <path d=\"M18.56 5.44l.94 2.06.94-2.06 2.06-.94-2.06-.94-.94-2.06-.94 2.06-2.06.94zm-11 1L8.5 8.5l.94-2.06 2.06-.94-2.06-.94L8.5 2.5l-.94 2.06-2.06.94zm10 10l.94 2.06.94-2.06 2.06-.94-2.06-.94-.94-2.06-.94 2.06-2.06.94z\"/><path d=\"M17.41 7.96l-1.37-1.37c-.4-.4-.92-.59-1.43-.59-.52 0-1.04.2-1.43.59L10.3 9.45l-7.72 7.72c-.78.78-.78 2.05 0 2.83L4 21.41c.39.39.9.59 1.41.59.51 0 1.02-.2 1.41-.59l7.78-7.78 2.81-2.81c.8-.78.8-2.07 0-2.86zM5.41 20L4 18.59l7.72-7.72 1.47 1.35L5.41 20z\"/>\n",
              "  </svg>\n",
              "      </button>\n",
              "      \n",
              "  <style>\n",
              "    .colab-df-container {\n",
              "      display:flex;\n",
              "      flex-wrap:wrap;\n",
              "      gap: 12px;\n",
              "    }\n",
              "\n",
              "    .colab-df-convert {\n",
              "      background-color: #E8F0FE;\n",
              "      border: none;\n",
              "      border-radius: 50%;\n",
              "      cursor: pointer;\n",
              "      display: none;\n",
              "      fill: #1967D2;\n",
              "      height: 32px;\n",
              "      padding: 0 0 0 0;\n",
              "      width: 32px;\n",
              "    }\n",
              "\n",
              "    .colab-df-convert:hover {\n",
              "      background-color: #E2EBFA;\n",
              "      box-shadow: 0px 1px 2px rgba(60, 64, 67, 0.3), 0px 1px 3px 1px rgba(60, 64, 67, 0.15);\n",
              "      fill: #174EA6;\n",
              "    }\n",
              "\n",
              "    [theme=dark] .colab-df-convert {\n",
              "      background-color: #3B4455;\n",
              "      fill: #D2E3FC;\n",
              "    }\n",
              "\n",
              "    [theme=dark] .colab-df-convert:hover {\n",
              "      background-color: #434B5C;\n",
              "      box-shadow: 0px 1px 3px 1px rgba(0, 0, 0, 0.15);\n",
              "      filter: drop-shadow(0px 1px 2px rgba(0, 0, 0, 0.3));\n",
              "      fill: #FFFFFF;\n",
              "    }\n",
              "  </style>\n",
              "\n",
              "      <script>\n",
              "        const buttonEl =\n",
              "          document.querySelector('#df-c3eb230c-eb7b-40ab-a380-d327194fc64b button.colab-df-convert');\n",
              "        buttonEl.style.display =\n",
              "          google.colab.kernel.accessAllowed ? 'block' : 'none';\n",
              "\n",
              "        async function convertToInteractive(key) {\n",
              "          const element = document.querySelector('#df-c3eb230c-eb7b-40ab-a380-d327194fc64b');\n",
              "          const dataTable =\n",
              "            await google.colab.kernel.invokeFunction('convertToInteractive',\n",
              "                                                     [key], {});\n",
              "          if (!dataTable) return;\n",
              "\n",
              "          const docLinkHtml = 'Like what you see? Visit the ' +\n",
              "            '<a target=\"_blank\" href=https://colab.research.google.com/notebooks/data_table.ipynb>data table notebook</a>'\n",
              "            + ' to learn more about interactive tables.';\n",
              "          element.innerHTML = '';\n",
              "          dataTable['output_type'] = 'display_data';\n",
              "          await google.colab.output.renderOutput(dataTable, element);\n",
              "          const docLink = document.createElement('div');\n",
              "          docLink.innerHTML = docLinkHtml;\n",
              "          element.appendChild(docLink);\n",
              "        }\n",
              "      </script>\n",
              "    </div>\n",
              "  </div>\n",
              "  "
            ]
          },
          "metadata": {},
          "execution_count": 23
        }
      ]
    },
    {
      "cell_type": "code",
      "source": [
        "finalDf = pd.concat([principalDf, data_sel[['target']]], axis = 1)\n",
        "\n",
        "fig = plt.figure(figsize = (8,8))\n",
        "ax = fig.add_subplot(1,1,1)\n",
        "ax.set_xlabel('Principal Component 1', fontsize = 15)\n",
        "ax.set_ylabel('Principal Component 2', fontsize = 15)\n",
        "ax.set_title('2 component PCA', fontsize = 20)\n",
        "targets = ['non repeater','repeater']\n",
        "colors = ['r', 'b']\n",
        "for target, color in zip(targets,colors):\n",
        "    indicesToKeep = finalDf['target'] == target\n",
        "    ax.scatter(finalDf.loc[indicesToKeep, 'principal component 1'], finalDf.loc[indicesToKeep, 'principal component 2'], c = color, s = 50)\n",
        "ax.legend(targets)\n",
        "ax.grid()\n"
      ],
      "metadata": {
        "colab": {
          "base_uri": "https://localhost:8080/",
          "height": 523
        },
        "id": "nGyTxM32D4A_",
        "outputId": "33ca284a-60a9-49f4-c05a-efead00b6e3b"
      },
      "execution_count": null,
      "outputs": [
        {
          "output_type": "display_data",
          "data": {
            "text/plain": [
              "<Figure size 576x576 with 1 Axes>"
            ],
            "image/png": "[encoded data removed]"
          },
          "metadata": {
            "needs_background": "light"
          }
        }
      ]
    },
    {
      "cell_type": "code",
      "source": [
        "from sklearn.cluster import KMeans\n",
        "\n",
        "kmeans_pca = KMeans(n_clusters =2,init = 'k-means++',random_state =42)\n",
        "kmeans_pca.fit(principalComponents)\n",
        "\n",
        "KMeans(algorithm='auto',copy_x =True,init = 'k-means++',max_iter= 300,n_clusters=2,n_init =10,random_state=42,tol=0.0001,verbose=0)"
      ],
      "metadata": {
        "colab": {
          "base_uri": "https://localhost:8080/"
        },
        "id": "PRv1lohtAFqN",
        "outputId": "323fa786-869b-48b6-fd19-46180d030534"
      },
      "execution_count": null,
      "outputs": [
        {
          "output_type": "execute_result",
          "data": {
            "text/plain": [
              "KMeans(n_clusters=2, random_state=42)"
            ]
          },
          "metadata": {},
          "execution_count": 25
        }
      ]
    },
    {
      "cell_type": "code",
      "source": [
        "principalDf['target'] = dummy\n",
        "#principalDf['segment'] = principalDf['target'].map({non repeater='non repeaters',repeaters='repeaters'})\n",
        "\n",
        "x_axis = principalDf['principal component 1']\n",
        "y_axis = principalDf['principal component 2']\n",
        "plt.figure(figsize = (10,8))\n",
        "#sns.scatterplot(x_axis,y_axis,hue = principalDf['segment'],palet = ['b','r'])\n",
        "plt.scatter(x_axis,y_axis,c=kmeans_pca.labels_)\n",
        "plt.title(\"pca with k means clustering\")"
      ],
      "metadata": {
        "id": "_G-kVkdQJv2m",
        "colab": {
          "base_uri": "https://localhost:8080/",
          "height": 516
        },
        "outputId": "0071c645-d935-442b-cd8c-b50962b8dd8e"
      },
      "execution_count": null,
      "outputs": [
        {
          "output_type": "execute_result",
          "data": {
            "text/plain": [
              "Text(0.5, 1.0, 'pca with k means clustering')"
            ]
          },
          "metadata": {},
          "execution_count": 26
        },
        {
          "output_type": "display_data",
          "data": {
            "text/plain": [
              "<Figure size 720x576 with 1 Axes>"
            ],
            "image/png": "[encoded data removed]"
          },
          "metadata": {
            "needs_background": "light"
          }
        }
      ]
    },
    {
      "cell_type": "code",
      "source": [
        "from sklearn.manifold import TSNE\n",
        "\n",
        "x = pd.DataFrame(x)\n",
        "x = x.T\n",
        "\n",
        "X_new = TSNE(n_components=2, learning_rate='auto',init='random', perplexity=24,n_iter=1000).fit_transform(x)\n",
        "X_new1 =pd.DataFrame(X_new)\n",
        "X_new1[\"target\"] = dummy\n",
        "X_new1"
      ],
      "metadata": {
        "colab": {
          "base_uri": "https://localhost:8080/",
          "height": 424
        },
        "id": "JN8azNs853Vk",
        "outputId": "76293a47-ca8d-4aa4-f90e-7c158df7d5c3"
      },
      "execution_count": null,
      "outputs": [
        {
          "output_type": "execute_result",
          "data": {
            "text/plain": [
              "             0          1        target\n",
              "0   -13.086621  17.527086  non repeater\n",
              "1    21.519316  15.904634  non repeater\n",
              "2     9.652154  20.132015  non repeater\n",
              "3   -24.542906  11.339165  non repeater\n",
              "4    19.190081   8.233889  non repeater\n",
              "..         ...        ...           ...\n",
              "589 -31.038706  -5.443677  non repeater\n",
              "590  26.365410   4.932511  non repeater\n",
              "591  21.561947  -8.783995  non repeater\n",
              "592  24.416231   3.009713  non repeater\n",
              "593   1.941385 -18.553295  non repeater\n",
              "\n",
              "[594 rows x 3 columns]"
            ],
            "text/html": [
              "\n",
              "  <div id=\"df-421a1425-cfa6-4d07-9985-11db20ad8364\">\n",
              "    <div class=\"colab-df-container\">\n",
              "      <div>\n",
              "<style scoped>\n",
              "    .dataframe tbody tr th:only-of-type {\n",
              "        vertical-align: middle;\n",
              "    }\n",
              "\n",
              "    .dataframe tbody tr th {\n",
              "        vertical-align: top;\n",
              "    }\n",
              "\n",
              "    .dataframe thead th {\n",
              "        text-align: right;\n",
              "    }\n",
              "</style>\n",
              "<table border=\"1\" class=\"dataframe\">\n",
              "  <thead>\n",
              "    <tr style=\"text-align: right;\">\n",
              "      <th></th>\n",
              "      <th>0</th>\n",
              "      <th>1</th>\n",
              "      <th>target</th>\n",
              "    </tr>\n",
              "  </thead>\n",
              "  <tbody>\n",
              "    <tr>\n",
              "      <th>0</th>\n",
              "      <td>-13.086621</td>\n",
              "      <td>17.527086</td>\n",
              "      <td>non repeater</td>\n",
              "    </tr>\n",
              "    <tr>\n",
              "      <th>1</th>\n",
              "      <td>21.519316</td>\n",
              "      <td>15.904634</td>\n",
              "      <td>non repeater</td>\n",
              "    </tr>\n",
              "    <tr>\n",
              "      <th>2</th>\n",
              "      <td>9.652154</td>\n",
              "      <td>20.132015</td>\n",
              "      <td>non repeater</td>\n",
              "    </tr>\n",
              "    <tr>\n",
              "      <th>3</th>\n",
              "      <td>-24.542906</td>\n",
              "      <td>11.339165</td>\n",
              "      <td>non repeater</td>\n",
              "    </tr>\n",
              "    <tr>\n",
              "      <th>4</th>\n",
              "      <td>19.190081</td>\n",
              "      <td>8.233889</td>\n",
              "      <td>non repeater</td>\n",
              "    </tr>\n",
              "    <tr>\n",
              "      <th>...</th>\n",
              "      <td>...</td>\n",
              "      <td>...</td>\n",
              "      <td>...</td>\n",
              "    </tr>\n",
              "    <tr>\n",
              "      <th>589</th>\n",
              "      <td>-31.038706</td>\n",
              "      <td>-5.443677</td>\n",
              "      <td>non repeater</td>\n",
              "    </tr>\n",
              "    <tr>\n",
              "      <th>590</th>\n",
              "      <td>26.365410</td>\n",
              "      <td>4.932511</td>\n",
              "      <td>non repeater</td>\n",
              "    </tr>\n",
              "    <tr>\n",
              "      <th>591</th>\n",
              "      <td>21.561947</td>\n",
              "      <td>-8.783995</td>\n",
              "      <td>non repeater</td>\n",
              "    </tr>\n",
              "    <tr>\n",
              "      <th>592</th>\n",
              "      <td>24.416231</td>\n",
              "      <td>3.009713</td>\n",
              "      <td>non repeater</td>\n",
              "    </tr>\n",
              "    <tr>\n",
              "      <th>593</th>\n",
              "      <td>1.941385</td>\n",
              "      <td>-18.553295</td>\n",
              "      <td>non repeater</td>\n",
              "    </tr>\n",
              "  </tbody>\n",
              "</table>\n",
              "<p>594 rows × 3 columns</p>\n",
              "</div>\n",
              "      <button class=\"colab-df-convert\" onclick=\"convertToInteractive('df-421a1425-cfa6-4d07-9985-11db20ad8364')\"\n",
              "              title=\"Convert this dataframe to an interactive table.\"\n",
              "              style=\"display:none;\">\n",
              "        \n",
              "  <svg xmlns=\"http://www.w3.org/2000/svg\" height=\"24px\"viewBox=\"0 0 24 24\"\n",
              "       width=\"24px\">\n",
              "    <path d=\"M0 0h24v24H0V0z\" fill=\"none\"/>\n",
              "    <path d=\"M18.56 5.44l.94 2.06.94-2.06 2.06-.94-2.06-.94-.94-2.06-.94 2.06-2.06.94zm-11 1L8.5 8.5l.94-2.06 2.06-.94-2.06-.94L8.5 2.5l-.94 2.06-2.06.94zm10 10l.94 2.06.94-2.06 2.06-.94-2.06-.94-.94-2.06-.94 2.06-2.06.94z\"/><path d=\"M17.41 7.96l-1.37-1.37c-.4-.4-.92-.59-1.43-.59-.52 0-1.04.2-1.43.59L10.3 9.45l-7.72 7.72c-.78.78-.78 2.05 0 2.83L4 21.41c.39.39.9.59 1.41.59.51 0 1.02-.2 1.41-.59l7.78-7.78 2.81-2.81c.8-.78.8-2.07 0-2.86zM5.41 20L4 18.59l7.72-7.72 1.47 1.35L5.41 20z\"/>\n",
              "  </svg>\n",
              "      </button>\n",
              "      \n",
              "  <style>\n",
              "    .colab-df-container {\n",
              "      display:flex;\n",
              "      flex-wrap:wrap;\n",
              "      gap: 12px;\n",
              "    }\n",
              "\n",
              "    .colab-df-convert {\n",
              "      background-color: #E8F0FE;\n",
              "      border: none;\n",
              "      border-radius: 50%;\n",
              "      cursor: pointer;\n",
              "      display: none;\n",
              "      fill: #1967D2;\n",
              "      height: 32px;\n",
              "      padding: 0 0 0 0;\n",
              "      width: 32px;\n",
              "    }\n",
              "\n",
              "    .colab-df-convert:hover {\n",
              "      background-color: #E2EBFA;\n",
              "      box-shadow: 0px 1px 2px rgba(60, 64, 67, 0.3), 0px 1px 3px 1px rgba(60, 64, 67, 0.15);\n",
              "      fill: #174EA6;\n",
              "    }\n",
              "\n",
              "    [theme=dark] .colab-df-convert {\n",
              "      background-color: #3B4455;\n",
              "      fill: #D2E3FC;\n",
              "    }\n",
              "\n",
              "    [theme=dark] .colab-df-convert:hover {\n",
              "      background-color: #434B5C;\n",
              "      box-shadow: 0px 1px 3px 1px rgba(0, 0, 0, 0.15);\n",
              "      filter: drop-shadow(0px 1px 2px rgba(0, 0, 0, 0.3));\n",
              "      fill: #FFFFFF;\n",
              "    }\n",
              "  </style>\n",
              "\n",
              "      <script>\n",
              "        const buttonEl =\n",
              "          document.querySelector('#df-421a1425-cfa6-4d07-9985-11db20ad8364 button.colab-df-convert');\n",
              "        buttonEl.style.display =\n",
              "          google.colab.kernel.accessAllowed ? 'block' : 'none';\n",
              "\n",
              "        async function convertToInteractive(key) {\n",
              "          const element = document.querySelector('#df-421a1425-cfa6-4d07-9985-11db20ad8364');\n",
              "          const dataTable =\n",
              "            await google.colab.kernel.invokeFunction('convertToInteractive',\n",
              "                                                     [key], {});\n",
              "          if (!dataTable) return;\n",
              "\n",
              "          const docLinkHtml = 'Like what you see? Visit the ' +\n",
              "            '<a target=\"_blank\" href=https://colab.research.google.com/notebooks/data_table.ipynb>data table notebook</a>'\n",
              "            + ' to learn more about interactive tables.';\n",
              "          element.innerHTML = '';\n",
              "          dataTable['output_type'] = 'display_data';\n",
              "          await google.colab.output.renderOutput(dataTable, element);\n",
              "          const docLink = document.createElement('div');\n",
              "          docLink.innerHTML = docLinkHtml;\n",
              "          element.appendChild(docLink);\n",
              "        }\n",
              "      </script>\n",
              "    </div>\n",
              "  </div>\n",
              "  "
            ]
          },
          "metadata": {},
          "execution_count": 27
        }
      ]
    },
    {
      "cell_type": "code",
      "source": [
        "import seaborn as sns\n",
        "sns.scatterplot(x=0, y=1, hue=X_new1[\"target\"],palette=sns.color_palette(\"hls\", 2),data=X_new1).set(title=\"T-SNE projection\")"
      ],
      "metadata": {
        "colab": {
          "base_uri": "https://localhost:8080/",
          "height": 312
        },
        "id": "9jlxQoyByrQz",
        "outputId": "3f8b79b6-bae9-4063-c3e8-c6490ea19869"
      },
      "execution_count": null,
      "outputs": [
        {
          "output_type": "execute_result",
          "data": {
            "text/plain": [
              "[Text(0.5, 1.0, 'T-SNE projection')]"
            ]
          },
          "metadata": {},
          "execution_count": 28
        },
        {
          "output_type": "display_data",
          "data": {
            "text/plain": [
              "<Figure size 432x288 with 1 Axes>"
            ],
            "image/png": "[encoded data removed]"
          },
          "metadata": {
            "needs_background": "light"
          }
        }
      ]
    },
    {
      "cell_type": "code",
      "source": [
        "%%capture\n",
        "!pip install hdbscan"
      ],
      "metadata": {
        "id": "GR-d4bXhOizM"
      },
      "execution_count": null,
      "outputs": []
    },
    {
      "cell_type": "code",
      "source": [
        "import hdbscan\n",
        "clusterer = hdbscan.HDBSCAN(min_cluster_size=15).fit(X_new)\n",
        "color_palette = sns.color_palette('deep', 8)\n",
        "cluster_colors = [color_palette[x] if x >= 0 else (0.5, 0.5, 0.5) for x in clusterer.labels_]\n",
        "cluster_member_colors = [sns.desaturate(x, p) for x, p in zip(cluster_colors, clusterer.probabilities_)]\n",
        "plt.scatter(*X_new.T, linewidth=0, c=cluster_member_colors)"
      ],
      "metadata": {
        "colab": {
          "base_uri": "https://localhost:8080/",
          "height": 282
        },
        "id": "AgdR4ONM-F8N",
        "outputId": "977f0bb9-2033-43c9-aa2a-4f28c6a0f802"
      },
      "execution_count": null,
      "outputs": [
        {
          "output_type": "execute_result",
          "data": {
            "text/plain": [
              "<matplotlib.collections.PathCollection at 0x7ffb4d09c700>"
            ]
          },
          "metadata": {},
          "execution_count": 32
        },
        {
          "output_type": "display_data",
          "data": {
            "text/plain": [
              "<Figure size 432x288 with 1 Axes>"
            ],
            "image/png": "[encoded data removed]"
          },
          "metadata": {
            "needs_background": "light"
          }
        }
      ]
    },
    {
      "cell_type": "markdown",
      "source": [
        "In the result we got from the clustering algorithm for the two types we saw the ditribution of both repeaters and non repeaters. The both algorithm PCA - Kmeans and t-SNE - HDBSCAN managed to show the distribution quite successfully\n",
        "hdbscan in paticular gave more clusters than just labeled non repeaters and repeaters since there is no hyperparameter given nor required in the hdbscan algorithm."
      ],
      "metadata": {
        "id": "hn5KfPRoHTrx"
      }
    }
  ]
}